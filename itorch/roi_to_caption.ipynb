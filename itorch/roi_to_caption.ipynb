{
 "cells": [
  {
   "cell_type": "code",
   "execution_count": 1,
   "metadata": {
    "collapsed": false
   },
   "outputs": [],
   "source": [
    "package.path = '../?.lua;'..package.path\n",
    "require 'torch'\n",
    "require 'nn'\n",
    "require 'image'\n",
    "\n",
    "require 'densecap.DenseCapModel'\n",
    "utils = require 'densecap.utils'\n",
    "box_utils = require 'densecap.box_utils'\n",
    "vis_utils = require 'densecap.vis_utils'"
   ]
  },
  {
   "cell_type": "code",
   "execution_count": 2,
   "metadata": {
    "collapsed": false
   },
   "outputs": [
    {
     "ename": "...g/Developments/torch/install/share/lua/5.1/cudnn/ffi.lua:1278: 'libcudnn (R4) not found in library path.\nPlease install CuDNN from https://developer.nvidia.com/cuDNN\nThen make sure files named as libcudnn.so.4 or libcudnn.4.dylib are placed in your library load path (for example /usr/local/lib , or manually add a path to LD_LIBRARY_PATH)\n\nstack traceback:\n\t[C]: in function 'error'\n\t...g/Developments/torch/install/share/lua/5.1/cudnn/ffi.lua:1278: in main chunk\n\t[C]: in function 'require'\n\t.../Developments/torch/install/share/lua/5.1/cudnn/init.lua:4: in main chunk\n\t[C]: in function 'require'\n\t../densecap/utils.lua:31: in function 'setup_gpus'\n\t[string \"-- options...\"]:7: in main chunk\n\t[C]: in function 'xpcall'\n\t...Developments/torch/install/share/lua/5.1/itorch/main.lua:209: in function <...Developments/torch/install/share/lua/5.1/itorch/main.lua:173>\n\t...Developments/torch/install/share/lua/5.1/lzmq/poller.lua:75: in function 'poll'\n\t...elopments/torch/install/share/lua/5.1/lzmq/impl/loop.lua:307: in function 'poll'\n\t...elopments/torch/install/share/lua/5.1/lzmq/impl/loop.lua:325: in function 'sleep_ex'\n\t...elopments/torch/install/share/lua/5.1/lzmq/impl/loop.lua:370: in function 'start'\n\t...Developments/torch/install/share/lua/5.1/itorch/main.lua:381: in main chunk\n\t[C]: in function 'require'\n\t(command line):1: in main chunk\n\t[C]: at 0x00406670",
     "evalue": "",
     "output_type": "error",
     "traceback": [
      "...g/Developments/torch/install/share/lua/5.1/cudnn/ffi.lua:1278: 'libcudnn (R4) not found in library path.\nPlease install CuDNN from https://developer.nvidia.com/cuDNN\nThen make sure files named as libcudnn.so.4 or libcudnn.4.dylib are placed in your library load path (for example /usr/local/lib , or manually add a path to LD_LIBRARY_PATH)\n\nstack traceback:\n\t[C]: in function 'error'\n\t...g/Developments/torch/install/share/lua/5.1/cudnn/ffi.lua:1278: in main chunk\n\t[C]: in function 'require'\n\t.../Developments/torch/install/share/lua/5.1/cudnn/init.lua:4: in main chunk\n\t[C]: in function 'require'\n\t../densecap/utils.lua:31: in function 'setup_gpus'\n\t[string \"-- options...\"]:7: in main chunk\n\t[C]: in function 'xpcall'\n\t...Developments/torch/install/share/lua/5.1/itorch/main.lua:209: in function <...Developments/torch/install/share/lua/5.1/itorch/main.lua:173>\n\t...Developments/torch/install/share/lua/5.1/lzmq/poller.lua:75: in function 'poll'\n\t...elopments/torch/install/share/lua/5.1/lzmq/impl/loop.lua:307: in function 'poll'\n\t...elopments/torch/install/share/lua/5.1/lzmq/impl/loop.lua:325: in function 'sleep_ex'\n\t...elopments/torch/install/share/lua/5.1/lzmq/impl/loop.lua:370: in function 'start'\n\t...Developments/torch/install/share/lua/5.1/itorch/main.lua:381: in main chunk\n\t[C]: in function 'require'\n\t(command line):1: in main chunk\n\t[C]: at 0x00406670"
     ]
    }
   ],
   "source": [
    "-- options\n",
    "checkpoint = '../data/models/densecap/densecap-pretrained-vgg16.t7'\n",
    "image_size = 720\n",
    "img_path = '../imgs/elephant.jpg'\n",
    "box_width = 2\n",
    "-- load model\n",
    "dtype, use_cudnn = utils.setup_gpus(0, 1)\n",
    "print(dtype, use_cudnn)\n",
    "model = torch.load(checkpoint).model\n",
    "model:convert(dtype, use_cudnn)\n",
    "model:evaluate()"
   ]
  },
  {
   "cell_type": "code",
   "execution_count": 54,
   "metadata": {
    "collapsed": false
   },
   "outputs": [],
   "source": [
    "function view_box(box)\n",
    "    x1 = torch.floor(box[1]-box[3]/2+1)\n",
    "    y1 = torch.floor(box[2]-box[4]/2+1)\n",
    "    x2 = x1 + box[3] - 1\n",
    "    y2 = y1 + box[4] - 1\n",
    "    itorch.image(img[{ {}, {y1, y2}, {x1, x2} }])\n",
    "end\n",
    "-- read image and box\n",
    "img = image.load(img_path, 3)\n",
    "box1 = torch.Tensor{400, 260, 400, 300}\n",
    "box2 = torch.Tensor{380, 110, 120, 200}\n",
    "-- box = torch.Tensor{400, 90, 100, 100}\n",
    "view_box(box1)\n",
    "view_box(box2)\n",
    "boxes = torch.cat({box1, box2},1):view(2, -1)"
   ]
  },
  {
   "cell_type": "code",
   "execution_count": 55,
   "metadata": {
    "collapsed": false
   },
   "outputs": [],
   "source": [
    "-- rescale box and img\n",
    "boxes = boxes:mul(image_size/math.max(img:size(2), img:size(3)))\n",
    "img = image.scale(img, image_size):float()\n",
    "H, W = img:size(2), img:size(3)\n",
    "-- convert img\n",
    "img_caffe = img:view(1, 3, H, W)\n",
    "img_caffe = img_caffe:index(2, torch.LongTensor{3,2,1}):mul(255)\n",
    "vgg_mean = torch.FloatTensor{103.939, 116.779, 123.68}\n",
    "vgg_mean = vgg_mean:view(1, 3, 1, 1):expand(1, 3, H, W)\n",
    "img_caffe:add(-1, vgg_mean)"
   ]
  },
  {
   "cell_type": "code",
   "execution_count": 56,
   "metadata": {
    "collapsed": false
   },
   "outputs": [
    {
     "ename": "...evelopments/torch/install/share/lua/5.1/nn/Container.lua:67: \nIn 1 module of nn.Sequential:\nIn 1 module of nn.Sequential:\n...ts/torch/install/share/lua/5.1/nn/SpatialConvolution.lua:111: attempt to index field 'THNN' (a nil value)\nstack traceback:\n\t...ts/torch/install/share/lua/5.1/nn/SpatialConvolution.lua:111: in function <...ts/torch/install/share/lua/5.1/nn/SpatialConvolution.lua:107>\n\t[C]: in function 'xpcall'\n\t...evelopments/torch/install/share/lua/5.1/nn/Container.lua:63: in function 'rethrowErrors'\n\t...velopments/torch/install/share/lua/5.1/nn/Sequential.lua:44: in function <...velopments/torch/install/share/lua/5.1/nn/Sequential.lua:41>\n\t[C]: in function 'xpcall'\n\t...evelopments/torch/install/share/lua/5.1/nn/Container.lua:63: in function 'rethrowErrors'\n\t...velopments/torch/install/share/lua/5.1/nn/Sequential.lua:44: in function 'forward'\n\t../densecap/DenseCapModel.lua:253: in function 'forward'\n\t../densecap/DenseCapModel.lua:321: in function 'forward_test'\n\t[string \"-- forward model...\"]:2: in main chunk\n\t[C]: in function 'xpcall'\n\t...Developments/torch/install/share/lua/5.1/itorch/main.lua:209: in function <...Developments/torch/install/share/lua/5.1/itorch/main.lua:173>\n\t...Developments/torch/install/share/lua/5.1/lzmq/poller.lua:75: in function 'poll'\n\t...elopments/torch/install/share/lua/5.1/lzmq/impl/loop.lua:307: in function 'poll'\n\t...elopments/torch/install/share/lua/5.1/lzmq/impl/loop.lua:325: in function 'sleep_ex'\n\t...elopments/torch/install/share/lua/5.1/lzmq/impl/loop.lua:370: in function 'start'\n\t...Developments/torch/install/share/lua/5.1/itorch/main.lua:381: in main chunk\n\t[C]: in function 'require'\n\t(command line):1: in main chunk\n\t[C]: at 0x00406670\n\nWARNING: If you see a stack trace below, it doesn't point to the place where this error occured. Please use only the one above.\nstack traceback:\n\t[C]: in function 'error'\n\t...evelopments/torch/install/share/lua/5.1/nn/Container.lua:67: in function 'rethrowErrors'\n\t...velopments/torch/install/share/lua/5.1/nn/Sequential.lua:44: in function 'forward'\n\t../densecap/DenseCapModel.lua:253: in function 'forward'\n\t../densecap/DenseCapModel.lua:321: in function 'forward_test'\n\t[string \"-- forward model...\"]:2: in main chunk\n\t[C]: in function 'xpcall'\n\t...Developments/torch/install/share/lua/5.1/itorch/main.lua:209: in function <...Developments/torch/install/share/lua/5.1/itorch/main.lua:173>\n\t...Developments/torch/install/share/lua/5.1/lzmq/poller.lua:75: in function 'poll'\n\t...elopments/torch/install/share/lua/5.1/lzmq/impl/loop.lua:307: in function 'poll'\n\t...elopments/torch/install/share/lua/5.1/lzmq/impl/loop.lua:325: in function 'sleep_ex'\n\t...elopments/torch/install/share/lua/5.1/lzmq/impl/loop.lua:370: in function 'start'\n\t...Developments/torch/install/share/lua/5.1/itorch/main.lua:381: in main chunk\n\t[C]: in function 'require'\n\t(command line):1: in main chunk\n\t[C]: at 0x00406670",
     "evalue": "",
     "output_type": "error",
     "traceback": [
      "...evelopments/torch/install/share/lua/5.1/nn/Container.lua:67: \nIn 1 module of nn.Sequential:\nIn 1 module of nn.Sequential:\n...ts/torch/install/share/lua/5.1/nn/SpatialConvolution.lua:111: attempt to index field 'THNN' (a nil value)\nstack traceback:\n\t...ts/torch/install/share/lua/5.1/nn/SpatialConvolution.lua:111: in function <...ts/torch/install/share/lua/5.1/nn/SpatialConvolution.lua:107>\n\t[C]: in function 'xpcall'\n\t...evelopments/torch/install/share/lua/5.1/nn/Container.lua:63: in function 'rethrowErrors'\n\t...velopments/torch/install/share/lua/5.1/nn/Sequential.lua:44: in function <...velopments/torch/install/share/lua/5.1/nn/Sequential.lua:41>\n\t[C]: in function 'xpcall'\n\t...evelopments/torch/install/share/lua/5.1/nn/Container.lua:63: in function 'rethrowErrors'\n\t...velopments/torch/install/share/lua/5.1/nn/Sequential.lua:44: in function 'forward'\n\t../densecap/DenseCapModel.lua:253: in function 'forward'\n\t../densecap/DenseCapModel.lua:321: in function 'forward_test'\n\t[string \"-- forward model...\"]:2: in main chunk\n\t[C]: in function 'xpcall'\n\t...Developments/torch/install/share/lua/5.1/itorch/main.lua:209: in function <...Developments/torch/install/share/lua/5.1/itorch/main.lua:173>\n\t...Developments/torch/install/share/lua/5.1/lzmq/poller.lua:75: in function 'poll'\n\t...elopments/torch/install/share/lua/5.1/lzmq/impl/loop.lua:307: in function 'poll'\n\t...elopments/torch/install/share/lua/5.1/lzmq/impl/loop.lua:325: in function 'sleep_ex'\n\t...elopments/torch/install/share/lua/5.1/lzmq/impl/loop.lua:370: in function 'start'\n\t...Developments/torch/install/share/lua/5.1/itorch/main.lua:381: in main chunk\n\t[C]: in function 'require'\n\t(command line):1: in main chunk\n\t[C]: at 0x00406670\n\nWARNING: If you see a stack trace below, it doesn't point to the place where this error occured. Please use only the one above.\nstack traceback:\n\t[C]: in function 'error'\n\t...evelopments/torch/install/share/lua/5.1/nn/Container.lua:67: in function 'rethrowErrors'\n\t...velopments/torch/install/share/lua/5.1/nn/Sequential.lua:44: in function 'forward'\n\t../densecap/DenseCapModel.lua:253: in function 'forward'\n\t../densecap/DenseCapModel.lua:321: in function 'forward_test'\n\t[string \"-- forward model...\"]:2: in main chunk\n\t[C]: in function 'xpcall'\n\t...Developments/torch/install/share/lua/5.1/itorch/main.lua:209: in function <...Developments/torch/install/share/lua/5.1/itorch/main.lua:173>\n\t...Developments/torch/install/share/lua/5.1/lzmq/poller.lua:75: in function 'poll'\n\t...elopments/torch/install/share/lua/5.1/lzmq/impl/loop.lua:307: in function 'poll'\n\t...elopments/torch/install/share/lua/5.1/lzmq/impl/loop.lua:325: in function 'sleep_ex'\n\t...elopments/torch/install/share/lua/5.1/lzmq/impl/loop.lua:370: in function 'start'\n\t...Developments/torch/install/share/lua/5.1/itorch/main.lua:381: in main chunk\n\t[C]: in function 'require'\n\t(command line):1: in main chunk\n\t[C]: at 0x00406670"
     ]
    }
   ],
   "source": [
    "out = model:forward_boxes(img_caffe:type(dtype), boxes:type(dtype))\n",
    "obj_scores, seqs, roi_codes, hidden_codes, captions = unpack(out)\n",
    "print('object score: ', obj_scores)\n",
    "print(captions)\n",
    "print(roi_codes:size(), roi_codes:type())\n",
    "print(hidden_codes:size(), hidden_codes:type())\n",
    "print(seqs:size(), seqs:type())"
   ]
  },
  {
   "cell_type": "code",
   "execution_count": null,
   "metadata": {
    "collapsed": true
   },
   "outputs": [],
   "source": [
    "-- -- forward model\n",
    "-- boxes, scores, captions = model:forward_test(img_caffe:type(dtype))"
   ]
  }
 ],
 "metadata": {
  "kernelspec": {
   "display_name": "iTorch",
   "language": "lua",
   "name": "itorch"
  },
  "language_info": {
   "name": "lua",
   "version": "5.1"
  }
 },
 "nbformat": 4,
 "nbformat_minor": 0
}
